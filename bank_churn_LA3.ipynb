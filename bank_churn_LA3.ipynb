{
  "nbformat": 4,
  "nbformat_minor": 0,
  "metadata": {
    "colab": {
      "provenance": []
    },
    "kernelspec": {
      "name": "python3",
      "display_name": "Python 3"
    },
    "language_info": {
      "name": "python"
    }
  },
  "cells": [
    {
      "cell_type": "markdown",
      "source": [
        "Given a bank customer, build a neural network-based classifier that can determine whether they will leave or not in the next 6 months. Dataset Description: The case study is from an open-source dataset from Kaggle. The dataset contains 10,000 sample points with 14 distinct features such as CustomerId, CreditScore, Geography, Gender, Age, Tenure, Balance, etc. Link to the Kaggle project: https://www.kaggle.com/barelydedicated/bank-customer-churn-modeling Perform following steps:\n",
        "\n",
        "Read the dataset. Distinguish the feature and target set and divide the data set into training and test sets. Normalize the train and test data. Initialize and build the model. Identify the points of improvement and implement the same. Print the accuracy score and confusion matrix (5 points)."
      ],
      "metadata": {
        "id": "PKYAYaeI5Jgk"
      }
    },
    {
      "cell_type": "code",
      "execution_count": null,
      "metadata": {
        "id": "v-b9TToM3JrT"
      },
      "outputs": [],
      "source": [
        "import pandas as pd\n",
        "from sklearn.model_selection import train_test_split\n",
        "from sklearn.preprocessing import StandardScaler\n",
        "from sklearn.metrics import accuracy_score, confusion_matrix\n",
        "from tensorflow import keras\n",
        "from tensorflow.keras.models import Sequential\n",
        "from tensorflow.keras.layers import Dense\n",
        "pip install \"tensorflow<2.11\""
      ]
    },
    {
      "cell_type": "code",
      "source": [
        "df = pd.read_csv(\"/content/Churn_Modelling.csv\")"
      ],
      "metadata": {
        "id": "bmQzFB4k4C5Z"
      },
      "execution_count": null,
      "outputs": []
    },
    {
      "cell_type": "code",
      "source": [
        "print(df.info())"
      ],
      "metadata": {
        "colab": {
          "base_uri": "https://localhost:8080/"
        },
        "id": "ValzMo694C2p",
        "outputId": "0d1728fd-4b7e-49be-e3a2-b56393a19ff7"
      },
      "execution_count": null,
      "outputs": [
        {
          "output_type": "stream",
          "name": "stdout",
          "text": [
            "<class 'pandas.core.frame.DataFrame'>\n",
            "RangeIndex: 10000 entries, 0 to 9999\n",
            "Data columns (total 14 columns):\n",
            " #   Column           Non-Null Count  Dtype  \n",
            "---  ------           --------------  -----  \n",
            " 0   RowNumber        10000 non-null  int64  \n",
            " 1   CustomerId       10000 non-null  int64  \n",
            " 2   Surname          10000 non-null  object \n",
            " 3   CreditScore      10000 non-null  int64  \n",
            " 4   Geography        10000 non-null  object \n",
            " 5   Gender           10000 non-null  object \n",
            " 6   Age              10000 non-null  int64  \n",
            " 7   Tenure           10000 non-null  int64  \n",
            " 8   Balance          10000 non-null  float64\n",
            " 9   NumOfProducts    10000 non-null  int64  \n",
            " 10  HasCrCard        10000 non-null  int64  \n",
            " 11  IsActiveMember   10000 non-null  int64  \n",
            " 12  EstimatedSalary  10000 non-null  float64\n",
            " 13  Exited           10000 non-null  int64  \n",
            "dtypes: float64(2), int64(9), object(3)\n",
            "memory usage: 1.1+ MB\n",
            "None\n"
          ]
        }
      ]
    },
    {
      "cell_type": "code",
      "source": [
        "X = df.drop(['CustomerId', 'Surname', 'Exited'], axis=1)\n",
        "y = df['Exited']"
      ],
      "metadata": {
        "id": "WfOa1Xti4Czo"
      },
      "execution_count": null,
      "outputs": []
    },
    {
      "cell_type": "code",
      "source": [
        "# Convert categorical columns to one-hot encoding\n",
        "X = pd.get_dummies(X, columns=['Geography', 'Gender'], drop_first=True)"
      ],
      "metadata": {
        "id": "BCn6YhIH4Cwl"
      },
      "execution_count": null,
      "outputs": []
    },
    {
      "cell_type": "code",
      "source": [
        "# Split the dataset into training and testing sets\n",
        "X_train, X_test, y_train, y_test = train_test_split(X, y, test_size=0.2, random_state=42)"
      ],
      "metadata": {
        "id": "kgRPgt2M4Ctx"
      },
      "execution_count": null,
      "outputs": []
    },
    {
      "cell_type": "code",
      "source": [
        "# Step 3: Normalize the train and test data\n",
        "scaler = StandardScaler()\n",
        "X_train = scaler.fit_transform(X_train)\n",
        "X_test = scaler.transform(X_test)"
      ],
      "metadata": {
        "id": "86xFjHcy4Cql"
      },
      "execution_count": null,
      "outputs": []
    },
    {
      "cell_type": "code",
      "source": [
        "# Step 4: Initialize and build the model\n",
        "model = Sequential()\n",
        "model.add(Dense(128, input_dim=X_train.shape[1], activation='relu'))\n",
        "model.add(Dense(64, activation='relu'))\n",
        "model.add(Dense(1, activation='sigmoid'))"
      ],
      "metadata": {
        "id": "Alg-zgr64Cnh"
      },
      "execution_count": null,
      "outputs": []
    },
    {
      "cell_type": "code",
      "source": [
        "model.compile(loss='binary_crossentropy', optimizer='adam', metrics=['accuracy'])"
      ],
      "metadata": {
        "id": "Y62Llsy84Ckq"
      },
      "execution_count": null,
      "outputs": []
    },
    {
      "cell_type": "code",
      "source": [
        "# Train the model\n",
        "model.fit(X_train, y_train, epochs=10, batch_size=32, validation_split=0.1, verbose=2)"
      ],
      "metadata": {
        "colab": {
          "base_uri": "https://localhost:8080/"
        },
        "id": "732ZiKCt4Ce-",
        "outputId": "96fcf594-700e-46c2-fbd7-34a5d2106d42"
      },
      "execution_count": null,
      "outputs": [
        {
          "output_type": "stream",
          "name": "stdout",
          "text": [
            "Epoch 1/10\n",
            "225/225 - 1s - loss: 0.4385 - accuracy: 0.8136 - val_loss: 0.3815 - val_accuracy: 0.8438 - 1s/epoch - 5ms/step\n",
            "Epoch 2/10\n",
            "225/225 - 0s - loss: 0.3726 - accuracy: 0.8511 - val_loss: 0.3603 - val_accuracy: 0.8462 - 269ms/epoch - 1ms/step\n",
            "Epoch 3/10\n",
            "225/225 - 0s - loss: 0.3510 - accuracy: 0.8583 - val_loss: 0.3459 - val_accuracy: 0.8537 - 260ms/epoch - 1ms/step\n",
            "Epoch 4/10\n",
            "225/225 - 0s - loss: 0.3432 - accuracy: 0.8586 - val_loss: 0.3451 - val_accuracy: 0.8587 - 279ms/epoch - 1ms/step\n",
            "Epoch 5/10\n",
            "225/225 - 0s - loss: 0.3392 - accuracy: 0.8615 - val_loss: 0.3411 - val_accuracy: 0.8575 - 310ms/epoch - 1ms/step\n",
            "Epoch 6/10\n",
            "225/225 - 0s - loss: 0.3347 - accuracy: 0.8636 - val_loss: 0.3381 - val_accuracy: 0.8550 - 301ms/epoch - 1ms/step\n",
            "Epoch 7/10\n",
            "225/225 - 0s - loss: 0.3301 - accuracy: 0.8672 - val_loss: 0.3424 - val_accuracy: 0.8562 - 318ms/epoch - 1ms/step\n",
            "Epoch 8/10\n",
            "225/225 - 0s - loss: 0.3269 - accuracy: 0.8640 - val_loss: 0.3389 - val_accuracy: 0.8637 - 388ms/epoch - 2ms/step\n",
            "Epoch 9/10\n",
            "225/225 - 0s - loss: 0.3224 - accuracy: 0.8671 - val_loss: 0.3432 - val_accuracy: 0.8562 - 352ms/epoch - 2ms/step\n",
            "Epoch 10/10\n",
            "225/225 - 0s - loss: 0.3194 - accuracy: 0.8679 - val_loss: 0.3410 - val_accuracy: 0.8550 - 361ms/epoch - 2ms/step\n"
          ]
        },
        {
          "output_type": "execute_result",
          "data": {
            "text/plain": [
              "<keras.src.callbacks.History at 0x786b140cd210>"
            ]
          },
          "metadata": {},
          "execution_count": 10
        }
      ]
    },
    {
      "cell_type": "code",
      "source": [
        "# Step 5: Print the accuracy score and confusion matrix\n",
        "y_pred = (model.predict(X_test) > 0.5).astype(\"int32\")"
      ],
      "metadata": {
        "colab": {
          "base_uri": "https://localhost:8080/"
        },
        "id": "wWWuv9ns4CcK",
        "outputId": "7355b16e-4907-4afd-cfcd-5ad95f19e370"
      },
      "execution_count": null,
      "outputs": [
        {
          "output_type": "stream",
          "name": "stdout",
          "text": [
            "63/63 [==============================] - 0s 1ms/step\n"
          ]
        }
      ]
    },
    {
      "cell_type": "code",
      "source": [
        "accuracy = accuracy_score(y_test, y_pred)\n",
        "conf_matrix = confusion_matrix(y_test, y_pred)"
      ],
      "metadata": {
        "id": "5tPV1lqd4Yrl"
      },
      "execution_count": null,
      "outputs": []
    },
    {
      "cell_type": "code",
      "source": [
        "print(\"Accuracy Score:\", accuracy)\n",
        "print(\"Confusion Matrix:\")\n",
        "print(conf_matrix)"
      ],
      "metadata": {
        "colab": {
          "base_uri": "https://localhost:8080/"
        },
        "id": "7fOP8GYq4YpC",
        "outputId": "72e245be-92e7-4765-adf4-93a4c3af91a5"
      },
      "execution_count": null,
      "outputs": [
        {
          "output_type": "stream",
          "name": "stdout",
          "text": [
            "Accuracy Score: 0.8625\n",
            "Confusion Matrix:\n",
            "[[1534   73]\n",
            " [ 202  191]]\n"
          ]
        }
      ]
    },
    {
      "cell_type": "code",
      "source": [],
      "metadata": {
        "id": "IV5wg89L4YmO"
      },
      "execution_count": null,
      "outputs": []
    }
  ]
}